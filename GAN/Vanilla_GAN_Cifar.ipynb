{
 "cells": [
  {
   "cell_type": "code",
   "execution_count": 1,
   "metadata": {},
   "outputs": [],
   "source": [
    "import tensorflow as tf\n",
    "import numpy as np\n",
    "import pickle\n",
    "import os\n",
    "import matplotlib.pyplot as plt\n",
    "import matplotlib.gridspec as gridspec"
   ]
  },
  {
   "cell_type": "code",
   "execution_count": 2,
   "metadata": {},
   "outputs": [],
   "source": [
    "def xavier_init(size):\n",
    "    in_dim = size[0]\n",
    "    xavier_stddev = 1./tf.sqrt(in_dim/2.)\n",
    "    return tf.random_normal(shape = size, stddev = xavier_stddev)    "
   ]
  },
  {
   "cell_type": "code",
   "execution_count": 3,
   "metadata": {},
   "outputs": [
    {
     "name": "stdout",
     "output_type": "stream",
     "text": [
      "(50000, 3072)\n"
     ]
    }
   ],
   "source": [
    "x = []\n",
    "i = 0\n",
    "for i in range(5):\n",
    "    path = \"data_batch_\" + str(i + 1)\n",
    "    with open(path, 'rb') as f:\n",
    "        batch = pickle.load(f,encoding='latin1')\n",
    "    x.append(batch['data'])  \n",
    "x = np.concatenate(x)/255.0\n",
    "print(x.shape)\n",
    "\n"
   ]
  },
  {
   "cell_type": "code",
   "execution_count": 4,
   "metadata": {},
   "outputs": [],
   "source": [
    "X = tf.placeholder(tf.float32, shape = [None, 3072])"
   ]
  },
  {
   "cell_type": "code",
   "execution_count": 5,
   "metadata": {},
   "outputs": [],
   "source": [
    "D_W1 = tf.Variable(xavier_init([3072, 256]))\n",
    "D_B1 = tf.Variable(tf.zeros(shape = [256]))\n",
    "D_W2 = tf.Variable(xavier_init([256, 128]))\n",
    "D_B2 = tf.Variable(tf.zeros(shape = [128]))\n",
    "D_W3 = tf.Variable(xavier_init([128,1]))\n",
    "D_B3 = tf.Variable(tf.zeros(shape = [1]))\n",
    "\n",
    "theta_D = [D_W1, D_B1, D_W2, D_B2, D_W3, D_B3]"
   ]
  },
  {
   "cell_type": "code",
   "execution_count": 6,
   "metadata": {},
   "outputs": [],
   "source": [
    "Z = tf.placeholder(tf.float32, shape = [None, 100])\n",
    "\n",
    "G_W1 = tf.Variable(xavier_init([100, 128]))\n",
    "G_B1 = tf.Variable(tf.zeros(shape = [128]))\n",
    "G_W2 = tf.Variable(xavier_init([128, 256]))\n",
    "G_B2 = tf.Variable(tf.zeros(shape = [256]))\n",
    "G_W3 = tf.Variable(xavier_init([256, 3072]))\n",
    "G_B3 = tf.Variable(tf.zeros(shape = [3072]))\n",
    "\n",
    "theta_G = [G_W1, G_B1, G_W2, G_B2, G_W3, G_B3]"
   ]
  },
  {
   "cell_type": "code",
   "execution_count": 7,
   "metadata": {},
   "outputs": [],
   "source": [
    "def sample_Z(m, n):\n",
    "    return np.random.uniform(-1., 1., size = [m, n])"
   ]
  },
  {
   "cell_type": "code",
   "execution_count": 8,
   "metadata": {},
   "outputs": [],
   "source": [
    "def discriminator(p):\n",
    "    D_h1 = tf.nn.relu(tf.matmul(p, D_W1) + D_B1)\n",
    "    D_h2 = tf.nn.relu(tf.matmul(D_h1, D_W2) + D_B2)\n",
    "    D_logit = tf.matmul(D_h2, D_W3) + D_B3\n",
    "\n",
    "    D_prob = tf.nn.sigmoid(D_logit)\n",
    "    return D_prob, D_logit\n"
   ]
  },
  {
   "cell_type": "code",
   "execution_count": 9,
   "metadata": {},
   "outputs": [],
   "source": [
    "def generator(z):\n",
    "    G_h1 = tf.nn.relu(tf.matmul(z, G_W1) + G_B1)\n",
    "    G_h2 = tf.nn.relu(tf.matmul(G_h1, G_W2) + G_B2)\n",
    "    G_log_prob = tf.matmul(G_h2, G_W3) + G_B3\n",
    "\n",
    "    G_prob = tf.nn.sigmoid(G_log_prob)\n",
    "    return G_prob"
   ]
  },
  {
   "cell_type": "code",
   "execution_count": 10,
   "metadata": {},
   "outputs": [],
   "source": [
    "def plot(samples):\n",
    "    fig = plt.figure(figsize=(4, 4))\n",
    "    gs = gridspec.GridSpec(4, 4)\n",
    "    gs.update(wspace=0.05, hspace=0.05)\n",
    "\n",
    "    for i, sample in enumerate(samples):\n",
    "        ax = plt.subplot(gs[i])\n",
    "        plt.axis('off')\n",
    "        ax.set_xticklabels([])\n",
    "        ax.set_yticklabels([])\n",
    "        ax.set_aspect('equal')\n",
    "        R = sample[0:1024].reshape(32,32)\n",
    "        G = sample[1024:2048].reshape(32,32)\n",
    "        B = sample[2048:].reshape(32,32)\n",
    "\n",
    "        img = np.dstack((R,G,B))   \n",
    "        plt.imshow(img, cmap='hsv', interpolation='nearest')\n",
    "    return fig"
   ]
  },
  {
   "cell_type": "code",
   "execution_count": 11,
   "metadata": {},
   "outputs": [],
   "source": [
    "G_sample = generator(Z)\n",
    "D_real, D_real_logit = discriminator(X)\n",
    "D_fake, D_fake_logit = discriminator(G_sample)"
   ]
  },
  {
   "cell_type": "code",
   "execution_count": 12,
   "metadata": {},
   "outputs": [],
   "source": [
    "D_loss_real = tf.reduce_mean(tf.nn.sigmoid_cross_entropy_with_logits(logits = D_real_logit, labels = tf.ones_like(D_real_logit)))\n",
    "D_loss_fake = tf.reduce_mean(tf.nn.sigmoid_cross_entropy_with_logits(logits = D_fake_logit, labels = tf.zeros_like(D_fake_logit)))\n",
    "D_loss = D_loss_real + D_loss_fake\n",
    "G_loss = tf.reduce_mean(tf.nn.sigmoid_cross_entropy_with_logits(logits = D_fake_logit, labels = tf.ones_like(D_fake_logit)))"
   ]
  },
  {
   "cell_type": "code",
   "execution_count": 13,
   "metadata": {},
   "outputs": [],
   "source": [
    "D_solver = tf.train.AdamOptimizer(learning_rate=1e-4).minimize(D_loss, var_list = theta_D)\n",
    "G_solver = tf.train.AdamOptimizer(learning_rate=1e-4).minimize(G_loss, var_list = theta_G)"
   ]
  },
  {
   "cell_type": "code",
   "execution_count": 15,
   "metadata": {},
   "outputs": [],
   "source": [
    "mb_size = 64\n",
    "Z_dim = 100\n",
    "sess = tf.Session()\n",
    "sess.run(tf.global_variables_initializer())\n",
    "\n",
    "if not os.path.exists('outc/'):\n",
    "    os.makedirs('outc/')"
   ]
  },
  {
   "cell_type": "code",
   "execution_count": null,
   "metadata": {},
   "outputs": [
    {
     "name": "stdout",
     "output_type": "stream",
     "text": [
      "0\n",
      "Iteration: 0\n",
      "D_loss: 0.2014\n",
      "G_loss: 2.907\n",
     ]
    }
   ],
   "source": [
    "i = 0\n",
    "for j in range(100000):\n",
    "    print(j)\n",
    "    if j % 50 == 0:\n",
    "        samples = sess.run(G_sample, feed_dict={Z: sample_Z(16, Z_dim)})        \n",
    "        fig = plot(samples)\n",
    "        plt.savefig('outc/{}.png'.format(str(i).zfill(3)), bbox_inches='tight')\n",
    "        i += 1\n",
    "        plt.close(fig)    \n",
    "    k = 0\n",
    "    while k < 50000:\n",
    "        start = k\n",
    "        end = k + mb_size\n",
    "        X_mb = x[start:end,:]                \n",
    "        k += mb_size\n",
    "        _, D_loss_curr = sess.run([D_solver, D_loss], feed_dict = {X: X_mb, Z: sample_Z(mb_size, Z_dim)})\n",
    "        _, G_loss_curr = sess.run([G_solver, G_loss], feed_dict = {Z: sample_Z(mb_size, Z_dim)})\n",
    "        \n",
    "\n",
    "            \n",
    "    if j % 50 == 0 :\n",
    "        print('Iteration: {}'.format(j))\n",
    "        print('D_loss: {:.4}'. format(D_loss_curr))\n",
    "        print('G_loss: {:.4}'.format(G_loss_curr))\n",
    "        print()\n",
    "    \n"
   ]
  },
  {
   "cell_type": "code",
   "execution_count": null,
   "metadata": {},
   "outputs": [],
   "source": [
    "saver=tf.train.Saver()\n",
    "save_path = saver.save(sess,\"./model1.ckpt\")"
   ]
  }
 ],
 "metadata": {
  "kernelspec": {
   "display_name": "Python 3",
   "language": "python",
   "name": "python3"
  },
  "language_info": {
   "codemirror_mode": {
    "name": "ipython",
    "version": 3
   },
   "file_extension": ".py",
   "mimetype": "text/x-python",
   "name": "python",
   "nbconvert_exporter": "python",
   "pygments_lexer": "ipython3",
   "version": "3.6.4"
  }
 },
 "nbformat": 4,
 "nbformat_minor": 2
}
